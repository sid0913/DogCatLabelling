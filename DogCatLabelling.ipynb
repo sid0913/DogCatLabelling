{
 "cells": [
  {
   "cell_type": "code",
   "execution_count": 1,
   "metadata": {},
   "outputs": [
    {
     "name": "stderr",
     "output_type": "stream",
     "text": [
      "Using TensorFlow backend.\n"
     ]
    }
   ],
   "source": [
    "import tensorflow as tf\n",
    "from keras.preprocessing.image import ImageDataGenerator"
   ]
  },
  {
   "cell_type": "code",
   "execution_count": 2,
   "metadata": {},
   "outputs": [
    {
     "name": "stdout",
     "output_type": "stream",
     "text": [
      "Found 8000 images belonging to 2 classes.\n"
     ]
    }
   ],
   "source": [
    "#Creating training image data generator object\n",
    "TrainImageDataGenerator = ImageDataGenerator(rescale = 1.0/255, shear_range = 0.2, zoom_range = 0.2, horizontal_flip = True)\n",
    "\n",
    "#Preprocessing the training dataset\n",
    "trainingDataSet = TrainImageDataGenerator.flow_from_directory(directory = \"dataset/training_set\", target_size= (64,64), batch_size = 32, class_mode = \"binary\")"
   ]
  },
  {
   "cell_type": "code",
   "execution_count": 3,
   "metadata": {},
   "outputs": [
    {
     "name": "stdout",
     "output_type": "stream",
     "text": [
      "Found 2000 images belonging to 2 classes.\n"
     ]
    }
   ],
   "source": [
    "#Creating the testing image data generator object\n",
    "TestImageDataGenerator  = ImageDataGenerator(rescale = 1.0/255)\n",
    "\n",
    "#Preprocessing the testing dataset\n",
    "testDataSet  = TestImageDataGenerator.flow_from_directory(\"dataset/test_set\",class_mode= \"binary\",target_size = (64,64), batch_size = 32)\n"
   ]
  },
  {
   "cell_type": "code",
   "execution_count": 4,
   "metadata": {},
   "outputs": [],
   "source": [
    "#Create the cnn\n",
    "cnn = tf.keras.models.Sequential()\n",
    "\n",
    "#Add the convolutional layer\n",
    "cnn.add(tf.keras.layers.Conv2D(filters = 32, kernel_size = 3, activation = \"relu\", input_shape = (64,64,3)))\n"
   ]
  },
  {
   "cell_type": "code",
   "execution_count": 5,
   "metadata": {},
   "outputs": [],
   "source": [
    "#Add Pooling layer\n",
    "cnn.add(tf.keras.layers.MaxPool2D(pool_size = (2,2), strides = 2))\n"
   ]
  },
  {
   "cell_type": "code",
   "execution_count": 6,
   "metadata": {},
   "outputs": [],
   "source": [
    "#Add the second convolutional layer and corresponding pooling layer. No need for the input_shape argument since it isn't the first layer\n",
    "#Create the cnn\n",
    "cnn = tf.keras.models.Sequential()\n",
    "\n",
    "#Add the convolutional layer\n",
    "cnn.add(tf.keras.layers.Conv2D(filters = 32, kernel_size = 3, activation = \"relu\"))\n",
    "#Add Pooling layer\n",
    "cnn.add(tf.keras.layers.MaxPool2D(pool_size = (2,2), strides = 2))\n"
   ]
  },
  {
   "cell_type": "code",
   "execution_count": 7,
   "metadata": {},
   "outputs": [],
   "source": [
    "#Add the flattening layer\n",
    "cnn.add(tf.keras.layers.Flatten())"
   ]
  },
  {
   "cell_type": "code",
   "execution_count": 8,
   "metadata": {},
   "outputs": [],
   "source": [
    "#Add the fully connected neural net. Dense is used for this. CNN require these hidden layers to be fully connected.\n",
    "cnn.add(tf.keras.layers.Dense(128 ,activation = 'relu'))"
   ]
  },
  {
   "cell_type": "code",
   "execution_count": 9,
   "metadata": {},
   "outputs": [],
   "source": [
    " #Add the output layer\n",
    "cnn.add(tf.keras.layers.Dense(1,activation = \"sigmoid\"))"
   ]
  },
  {
   "cell_type": "code",
   "execution_count": 10,
   "metadata": {},
   "outputs": [],
   "source": [
    "#Compiling\n",
    "cnn.compile(optimizer = 'adam', loss = \"binary_crossentropy\", metrics = [\"accuracy\"])"
   ]
  },
  {
   "cell_type": "code",
   "execution_count": 11,
   "metadata": {},
   "outputs": [
    {
     "name": "stdout",
     "output_type": "stream",
     "text": [
      "WARNING:tensorflow:sample_weight modes were coerced from\n",
      "  ...\n",
      "    to  \n",
      "  ['...']\n",
      "Train for 250 steps, validate for 63 steps\n",
      "Epoch 1/25\n",
      "250/250 [==============================] - 74s 297ms/step - loss: 0.6885 - accuracy: 0.6166 - val_loss: 0.6663 - val_accuracy: 0.6175\n",
      "Epoch 2/25\n",
      "250/250 [==============================] - 71s 286ms/step - loss: 0.5994 - accuracy: 0.6759 - val_loss: 0.5746 - val_accuracy: 0.7200\n",
      "Epoch 3/25\n",
      "250/250 [==============================] - 73s 291ms/step - loss: 0.5758 - accuracy: 0.6984 - val_loss: 0.5726 - val_accuracy: 0.7055\n",
      "Epoch 4/25\n",
      "250/250 [==============================] - 73s 293ms/step - loss: 0.5540 - accuracy: 0.7132 - val_loss: 0.6337 - val_accuracy: 0.6635\n",
      "Epoch 5/25\n",
      "250/250 [==============================] - 71s 285ms/step - loss: 0.5450 - accuracy: 0.7190 - val_loss: 0.5363 - val_accuracy: 0.7395\n",
      "Epoch 6/25\n",
      "250/250 [==============================] - 73s 294ms/step - loss: 0.5156 - accuracy: 0.7420 - val_loss: 0.5681 - val_accuracy: 0.7040\n",
      "Epoch 7/25\n",
      "250/250 [==============================] - 75s 299ms/step - loss: 0.5049 - accuracy: 0.7462 - val_loss: 0.5443 - val_accuracy: 0.7345\n",
      "Epoch 8/25\n",
      "250/250 [==============================] - 72s 287ms/step - loss: 0.4895 - accuracy: 0.7645 - val_loss: 0.5174 - val_accuracy: 0.7470\n",
      "Epoch 9/25\n",
      "250/250 [==============================] - 74s 296ms/step - loss: 0.4798 - accuracy: 0.7655 - val_loss: 0.5257 - val_accuracy: 0.7385\n",
      "Epoch 10/25\n",
      "250/250 [==============================] - 74s 295ms/step - loss: 0.4770 - accuracy: 0.7690 - val_loss: 0.5326 - val_accuracy: 0.7320\n",
      "Epoch 11/25\n",
      "250/250 [==============================] - 87s 347ms/step - loss: 0.4579 - accuracy: 0.7790 - val_loss: 0.5196 - val_accuracy: 0.7555\n",
      "Epoch 12/25\n",
      "250/250 [==============================] - 87s 349ms/step - loss: 0.4440 - accuracy: 0.7918 - val_loss: 0.5695 - val_accuracy: 0.7310\n",
      "Epoch 13/25\n",
      "250/250 [==============================] - 72s 286ms/step - loss: 0.4413 - accuracy: 0.7924 - val_loss: 0.5419 - val_accuracy: 0.7570\n",
      "Epoch 14/25\n",
      "250/250 [==============================] - 73s 290ms/step - loss: 0.4234 - accuracy: 0.8010 - val_loss: 0.5121 - val_accuracy: 0.7670\n",
      "Epoch 15/25\n",
      "250/250 [==============================] - 71s 286ms/step - loss: 0.4143 - accuracy: 0.8100 - val_loss: 0.5314 - val_accuracy: 0.7525\n",
      "Epoch 16/25\n",
      "250/250 [==============================] - 73s 291ms/step - loss: 0.3997 - accuracy: 0.8183 - val_loss: 0.6089 - val_accuracy: 0.7360\n",
      "Epoch 17/25\n",
      "250/250 [==============================] - 72s 287ms/step - loss: 0.3920 - accuracy: 0.8185 - val_loss: 0.5488 - val_accuracy: 0.7665\n",
      "Epoch 18/25\n",
      "250/250 [==============================] - 78s 313ms/step - loss: 0.3860 - accuracy: 0.8225 - val_loss: 0.6214 - val_accuracy: 0.7550\n",
      "Epoch 19/25\n",
      "250/250 [==============================] - 75s 299ms/step - loss: 0.3763 - accuracy: 0.8280 - val_loss: 0.6196 - val_accuracy: 0.7390\n",
      "Epoch 20/25\n",
      "250/250 [==============================] - 74s 298ms/step - loss: 0.3650 - accuracy: 0.8341 - val_loss: 0.5530 - val_accuracy: 0.7685\n",
      "Epoch 21/25\n",
      "250/250 [==============================] - 74s 298ms/step - loss: 0.3483 - accuracy: 0.8451 - val_loss: 0.5593 - val_accuracy: 0.7755\n",
      "Epoch 22/25\n",
      "250/250 [==============================] - 74s 296ms/step - loss: 0.3410 - accuracy: 0.8470 - val_loss: 0.5865 - val_accuracy: 0.7630\n",
      "Epoch 23/25\n",
      "250/250 [==============================] - 75s 298ms/step - loss: 0.3256 - accuracy: 0.8595 - val_loss: 0.6794 - val_accuracy: 0.7410\n",
      "Epoch 24/25\n",
      "250/250 [==============================] - 77s 307ms/step - loss: 0.3198 - accuracy: 0.8650 - val_loss: 0.6288 - val_accuracy: 0.7650\n",
      "Epoch 25/25\n",
      "250/250 [==============================] - 75s 301ms/step - loss: 0.3097 - accuracy: 0.8633 - val_loss: 0.7155 - val_accuracy: 0.7340\n"
     ]
    },
    {
     "data": {
      "text/plain": [
       "<tensorflow.python.keras.callbacks.History at 0x2066c5b8b88>"
      ]
     },
     "execution_count": 11,
     "metadata": {},
     "output_type": "execute_result"
    }
   ],
   "source": [
    "#Training\n",
    "cnn.fit(trainingDataSet, validation_data = testDataSet, epochs = 25)"
   ]
  },
  {
   "cell_type": "code",
   "execution_count": 12,
   "metadata": {},
   "outputs": [
    {
     "data": {
      "text/plain": [
       "{'cats': 0, 'dogs': 1}"
      ]
     },
     "execution_count": 12,
     "metadata": {},
     "output_type": "execute_result"
    }
   ],
   "source": [
    "import numpy as np\n",
    "import os,sys\n",
    "#Test on the image of a dog\n",
    "\n",
    "from keras.preprocessing import image\n",
    "testImage = image.load_img('dataset\\single_prediction\\cat_or_dog_1.jpg',target_size = (64,64))\n",
    "\n",
    "#convert to a numpy array\n",
    "testImage = image.img_to_array(testImage)\n",
    "\n",
    "#adding image to a batch\n",
    "testImage = np.expand_dims(testImage, axis = 0)\n",
    "\n",
    "#predict\n",
    "\n",
    "result = cnn.predict(testImage)\n",
    " \n",
    "trainingDataSet.class_indices\n",
    "\n"
   ]
  },
  {
   "cell_type": "code",
   "execution_count": 13,
   "metadata": {},
   "outputs": [
    {
     "data": {
      "text/plain": [
       "array([[1.]], dtype=float32)"
      ]
     },
     "execution_count": 13,
     "metadata": {},
     "output_type": "execute_result"
    }
   ],
   "source": [
    "result"
   ]
  },
  {
   "cell_type": "code",
   "execution_count": 14,
   "metadata": {},
   "outputs": [
    {
     "name": "stdout",
     "output_type": "stream",
     "text": [
      "It is a dog\n"
     ]
    }
   ],
   "source": [
    "#Printing the prediction\n",
    "if result[0][0] == 1:\n",
    "    print(\"It is a dog\")\n",
    "    \n",
    "else:\n",
    "    print(\"It is a cat\")"
   ]
  },
  {
   "cell_type": "code",
   "execution_count": null,
   "metadata": {},
   "outputs": [],
   "source": []
  }
 ],
 "metadata": {
  "kernelspec": {
   "display_name": "Python 3",
   "language": "python",
   "name": "python3"
  },
  "language_info": {
   "codemirror_mode": {
    "name": "ipython",
    "version": 3
   },
   "file_extension": ".py",
   "mimetype": "text/x-python",
   "name": "python",
   "nbconvert_exporter": "python",
   "pygments_lexer": "ipython3",
   "version": "3.7.4"
  }
 },
 "nbformat": 4,
 "nbformat_minor": 2
}
